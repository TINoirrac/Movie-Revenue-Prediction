{
 "cells": [
  {
   "cell_type": "code",
   "execution_count": 13,
   "metadata": {},
   "outputs": [],
   "source": [
    "from bs4 import BeautifulSoup\n",
    "import urllib.request\n",
    "import requests\n",
    "import pandas as pd\n",
    "import numpy as np\n",
    "import cv2"
   ]
  },
  {
   "cell_type": "code",
   "execution_count": 19,
   "metadata": {},
   "outputs": [],
   "source": [
    "columns=[]\n",
    "data=[]\n",
    "headers={\n",
    "'User-Agent':'Mozilla/5.0 (X11; Linux x86_64) AppleWebKit/537.36 (KHTML, like Gecko) Chrome/112.0.0.0 Safari/537.36 Edg/112.0.1722.64'\n",
    "}\n",
    "\n",
    "\n",
    "for page in range(1,100,100):\n",
    "    url='https://www.the-numbers.com/box-office-records/worldwide/all-movies/cumulative/all-time/'+str(page)\n",
    "    response=requests.get(url,headers=headers)\n",
    "    soup=BeautifulSoup(response.content,'html.parser')\n",
    "    table_html=soup.find('table')\n",
    "    \n",
    "    if columns == []:\n",
    "        for th in table_html.find_all('th'):\n",
    "            columns.append(th.text.strip())\n",
    "\n",
    "    for tr in table_html.find_all('tr'):\n",
    "        row=[]\n",
    "\n",
    "        for td in tr.find_all('td'):\n",
    "            row.append(td.text.strip())\n",
    "\n",
    "        all_a_tags=tr.find_all('a')\n",
    "        if all_a_tags:\n",
    "            link_movie=all_a_tags[-1].get('href')\n",
    "\n",
    "            url_movie='https://www.the-numbers.com' + link_movie\n",
    "            response_movie=requests.get(url_movie,headers=headers)\n",
    "            soup_movie=BeautifulSoup(response_movie.content,'html.parser')\n",
    "\n",
    "\n",
    "        if row:\n",
    "            data.append(row)\n"
   ]
  },
  {
   "cell_type": "code",
   "execution_count": 9,
   "metadata": {},
   "outputs": [],
   "source": [
    "\n",
    "df = pd.DataFrame(data, columns=columns)\n",
    "df.to_csv('SmallDS_raw.csv')\n",
    "# mssv_list=df['Số thẻ SV']\n",
    "\n",
    "# for mssv in mssv_list:\n",
    "#     img_resp = requests.get('http://cb.dut.udn.vn/ImageSV/20/'+mssv+'.jpg')\n",
    "#     if(img_resp):\n",
    "#         with open(mssv+'.jpg', 'wb') as f:\n",
    "#             f.write(img_resp.content)\n"
   ]
  }
 ],
 "metadata": {
  "kernelspec": {
   "display_name": "Python 3",
   "language": "python",
   "name": "python3"
  },
  "language_info": {
   "codemirror_mode": {
    "name": "ipython",
    "version": 3
   },
   "file_extension": ".py",
   "mimetype": "text/x-python",
   "name": "python",
   "nbconvert_exporter": "python",
   "pygments_lexer": "ipython3",
   "version": "3.10.11"
  },
  "orig_nbformat": 4
 },
 "nbformat": 4,
 "nbformat_minor": 2
}
